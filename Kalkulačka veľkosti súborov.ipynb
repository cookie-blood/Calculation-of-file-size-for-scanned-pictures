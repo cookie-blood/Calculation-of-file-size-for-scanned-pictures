{
 "cells": [
  {
   "cell_type": "markdown",
   "metadata": {},
   "source": [
    "# Kalkulačka veľkosti suborov"
   ]
  },
  {
   "cell_type": "code",
   "execution_count": 11,
   "metadata": {},
   "outputs": [
    {
     "name": "stdout",
     "output_type": "stream",
     "text": [
      "DPI: 300\n",
      "Measurement A  in centimeters: 24\n",
      "Bitrate: 32\n",
      "Measurement B in centimeters: 18\n",
      "Štandardné DVD uloží 209 takýchto obrázkov.\n"
     ]
    }
   ],
   "source": [
    "import math\n",
    "import pint\n",
    "a=0\n",
    "b=0\n",
    "ureg = pint.UnitRegistry()\n",
    "dpi=int(input(\"DPI: \"))\n",
    "measurement=int(input(\"Measurement A  in centimeters: \"))\n",
    "bitrate=int(input(\"Bitrate: \"))\n",
    "def pixels(dpi, measurement,a,b):\n",
    "    dpi=dpi * ureg.DPI\n",
    "    dpp=dpi.to(ureg.PPCM)\n",
    "    dpp=dpp.magnitude\n",
    "    if a!=0:\n",
    "        pixels.b=(math.ceil(measurement*dpp))\n",
    "    else:\n",
    "        pixels.a=(math.ceil(measurement*dpp))\n",
    "    return a\n",
    "    return b\n",
    "pixels(dpi, measurement,a,b)\n",
    "a=pixels.a\n",
    "\n",
    "measurement=int(input(\"Measurement B in centimeters: \"))\n",
    "pixels(dpi, measurement,a,b)\n",
    "b=pixels.b\n",
    "pixsum= a * b\n",
    "bits=(pixsum*bitrate)\n",
    "bits=bits * ureg.bit\n",
    "megabytes= bits.to(ureg.megabytes)\n",
    "dvd_capacity=4.7 * ureg.gibibytes\n",
    "dvd_capacity_in_megabytes=dvd_capacity.to(ureg.megabytes)\n",
    "files=(dvd_capacity_in_megabytes/megabytes).magnitude\n",
    "print(\"Štandardné DVD uloží {} takýchto obrázkov.\".format(str(math.floor(files))))"
   ]
  },
  {
   "cell_type": "code",
   "execution_count": 10,
   "metadata": {},
   "outputs": [],
   "source": [
    "#Made by Sébastien E. Klaubert with ❤️ in Slovakia."
   ]
  }
 ],
 "metadata": {
  "kernelspec": {
   "display_name": "Python 3",
   "language": "python",
   "name": "python3"
  },
  "language_info": {
   "codemirror_mode": {
    "name": "ipython",
    "version": 3
   },
   "file_extension": ".py",
   "mimetype": "text/x-python",
   "name": "python",
   "nbconvert_exporter": "python",
   "pygments_lexer": "ipython3",
   "version": "3.7.3"
  }
 },
 "nbformat": 4,
 "nbformat_minor": 2
}
